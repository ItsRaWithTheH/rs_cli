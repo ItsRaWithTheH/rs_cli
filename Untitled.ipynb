{
 "cells": [
  {
   "cell_type": "code",
   "execution_count": 1,
   "metadata": {
    "collapsed": true
   },
   "outputs": [],
   "source": [
    "import os\n",
    "from chardet.universaldetector import UniversalDetector\n",
    "import csv\n",
    "import collections\n",
    "import re"
   ]
  },
  {
   "cell_type": "code",
   "execution_count": 2,
   "metadata": {
    "collapsed": true
   },
   "outputs": [],
   "source": [
    "def _readFile(filePath, delim, guessed_encoding):\n",
    "  with open(filePath, encoding=guessed_encoding) as infile:\n",
    "    rows = csv.reader(infile, delimiter=delim)\n",
    "    readData = list()\n",
    "    maxRows = 500\n",
    "    for i, element in enumerate(rows):\n",
    "      if i < maxRows:\n",
    "        readData.append(element)\n",
    "  return readData"
   ]
  },
  {
   "cell_type": "code",
   "execution_count": 3,
   "metadata": {
    "collapsed": false
   },
   "outputs": [
    {
     "data": {
      "text/plain": [
       "[['head1', 'head2', 'head3', 'head4'],\n",
       " ['test2', ' 2', ' 3.0', ' 19310810'],\n",
       " ['41', ' 5', ' 6.0', ' 10MAR2010'],\n",
       " ['71', ' 8', ' 9.0', ' 09MAR2010'],\n",
       " ['101', ' 11', ' 12.0', ' 09MAR2010'],\n",
       " ['131', ' 14', ' 15.0', ' 09MAR2010']]"
      ]
     },
     "execution_count": 3,
     "metadata": {},
     "output_type": "execute_result"
    }
   ],
   "source": [
    "_readFile('/Users/jlee/Desktop/CLI/sample2.csv', ',', 'ascii')"
   ]
  },
  {
   "cell_type": "code",
   "execution_count": 4,
   "metadata": {
    "collapsed": true
   },
   "outputs": [],
   "source": [
    "def get_column_datatype(cell):\n",
    "  \"\"\"\n",
    "  Gets the Redshift datatype for a column in the csv\n",
    "\n",
    "  type cell: can be one of the following types:\n",
    "      int, decimal, float,\n",
    "  \"\"\"\n",
    "\n",
    "  # subfunction checking if a cell is a float or not\n",
    "  def _isfloat(s):\n",
    "    if re.search('.*E0.*', s) is not None:\n",
    "      return False\n",
    "    try:\n",
    "      float(s)\n",
    "      return True\n",
    "    except ValueError:\n",
    "      return False\n",
    "\n",
    "  def _isint(s):\n",
    "    try:\n",
    "      int(s)\n",
    "      return True\n",
    "    except ValueError:\n",
    "      return False\n",
    "\n",
    "  # subfunction checking if a cell is a bool or not\n",
    "  # NOTE: if a cell has a bool datatype then it must be\n",
    "  #      initially recorded with capital 'T' for 'True' or capital 'F' for 'False'\n",
    "  def _isbool(s):\n",
    "    if s == 'True' or s == 'False':\n",
    "      return True\n",
    "    else:\n",
    "      return False\n",
    "\n",
    "  # subfunction checking if a cell is a date or not\n",
    "  # NOTE: this subfunction only accounts for two different date formats\n",
    "  #      from the CSV.\n",
    "  #      Format One: 8 digits, where the first 4\n",
    "  #          digits represent year, then next 2 digits represent month, and\n",
    "  #          final two digits represent day\n",
    "  #      Format Two: 2 digits for day of the month followed by\n",
    "  #          string of 3 letters representing month (first 3 letters of month name)\n",
    "  #          followed by 4 digits for year\n",
    "  def _isdate(s):\n",
    "    # Format One check\n",
    "    if s.isdigit() and len(s) == 8:\n",
    "      potential_year = int(s[:4].lstrip('0'))\n",
    "      potential_month = int(s[4:6].lstrip('0'))\n",
    "      potential_day = int(s[6:].lstrip('0'))\n",
    "      if potential_year in range(0, 2016) and potential_month in range(1, 12) \\\n",
    "          and potential_day in range(1, 31):\n",
    "        return True\n",
    "        # Format Two check\n",
    "    if len(s) == 9 and s[5:].isdigit():\n",
    "      potential_year2 = int(s[5:].lstrip('0'))\n",
    "      potential_day2 = int(s[:2].lstrip('0'))\n",
    "      # checking if 3 letters in the middle of the string represent a valid month\n",
    "      if s[2:5] in ('JAN', 'FEB', 'MAR', 'APR', 'MAY', 'JUN', \\\n",
    "                    'JUL', 'AUG', 'SEP', 'OCT', 'NOV', 'DEC') and potential_year2 in range(0, 2016) \\\n",
    "          and potential_day2 in range(1, 31):\n",
    "        return True\n",
    "    # if neither Format One of Format Two\n",
    "    return False\n",
    "\n",
    "  # strip of all white space before anf after the string\n",
    "  cell = cell.strip(' ')\n",
    "  if _isdate(cell):\n",
    "    return 'DATE'\n",
    "  elif _isint(cell):\n",
    "    return 'REAL'\n",
    "  elif _isfloat(cell):\n",
    "    return 'REAL'\n",
    "  elif _isbool(cell):\n",
    "    return 'BOOLEAN'\n",
    "  else:\n",
    "    return 'VARCHAR(256)'"
   ]
  },
  {
   "cell_type": "code",
   "execution_count": 5,
   "metadata": {
    "collapsed": true
   },
   "outputs": [],
   "source": [
    "def _getQuery (readData):\n",
    "  headers = readData.pop(0)\n",
    "  tableDef = list()\n",
    "  for header in headers:\n",
    "    tableDef.append({\n",
    "      \"name\": header,\n",
    "      \"type\": None\n",
    "    })\n",
    "\n",
    "  for i in range(0, len(readData)):\n",
    "    row = readData[i]\n",
    "    for j in range(0, len(row)):\n",
    "      cell = row[j]\n",
    "      columnDef = tableDef[j]\n",
    "      if columnDef['type'] is None:\n",
    "        columnDef['type'] = get_column_datatype(cell)\n",
    "\n",
    "  return tableDef\n",
    "        \n",
    "  "
   ]
  },
  {
   "cell_type": "code",
   "execution_count": 6,
   "metadata": {
    "collapsed": false,
    "scrolled": true
   },
   "outputs": [
    {
     "data": {
      "text/plain": [
       "[{'name': 'head1', 'type': 'VARCHAR(256)'},\n",
       " {'name': 'head2', 'type': 'REAL'},\n",
       " {'name': 'head3', 'type': 'REAL'},\n",
       " {'name': 'head4', 'type': 'DATE'}]"
      ]
     },
     "execution_count": 6,
     "metadata": {},
     "output_type": "execute_result"
    }
   ],
   "source": [
    "_getQuery(_readFile('/Users/jlee/Desktop/CLI/sample2.csv', ',', 'ascii'))"
   ]
  },
  {
   "cell_type": "code",
   "execution_count": 10,
   "metadata": {
    "collapsed": true
   },
   "outputs": [],
   "source": [
    "import xlsxwriter\n",
    "\n",
    "\n",
    "def to_spreadsheet(column_names_list, guessed_datatype_list, spreadsheet_name):\n",
    "\n",
    "  #book = xlwt.Workbook(encoding=guessed_encoding)\n",
    "  workbook = xlsxwriter.Workbook(spreadsheet_name+\".xlsx\")\n",
    "\n",
    "  #sheet1 = book.add_sheet(\"Input Redshift Datatype Spreadsheet\")\n",
    "  worksheet = workbook.add_worksheet()\n",
    "\n",
    "  worksheet.write(0, 0, \"Column Name\")\n",
    "  worksheet.write(0, 1, \"Guessed Datatype\")\n",
    "  worksheet.write(0, 2, \"User Input Datatype\")\n",
    "\n",
    "  def _list_to_excel_column(list_of_entries, column_to_write_to):\n",
    "    \"\"\"\n",
    "    list_of_entries: list of entries to want to write into individual cells for a column in the excel sheet\n",
    "      possible arguments are column_names_list and guessed_datatype_list\n",
    "    \"\"\"\n",
    "    i = 1\n",
    "    for n in list_of_entries:\n",
    "      worksheet.write(i, column_to_write_to, n)\n",
    "      i = i + 1\n",
    "\n",
    "  _list_to_excel_column(column_names_list, 0)\n",
    "  _list_to_excel_column(guessed_datatype_list, 1)\n",
    "\n",
    "  #book.save(spreadsheet_name+\".xls\")\n"
   ]
  },
  {
   "cell_type": "code",
   "execution_count": 11,
   "metadata": {
    "collapsed": false
   },
   "outputs": [],
   "source": [
    "to_spreadsheet(['draymond', 'fish', 'wow'], ['VARCHAR', 'VARCHAR', 'VARCHAR'], 'please')"
   ]
  },
  {
   "cell_type": "code",
   "execution_count": 43,
   "metadata": {
    "collapsed": true
   },
   "outputs": [],
   "source": [
    "import pyexcel as pe\n",
    "\n",
    "def get_query_from_xlsx_file(xlsx_file, schema, tablename):\n",
    "  \"\"\"\n",
    "  Reads some excel file that has been created from running write_to_spreadsheet.py\n",
    "  and that the user has manually written in datatypes for the column names whose rs datatypes\n",
    "  were guessed incorrectly\n",
    "\n",
    "  Output is a OrderedDict where the keys are the column names and the value for each key is its respective datatype\n",
    "  \"\"\"\n",
    "\n",
    "  records = pe.get_records(file_name = xlsx_file)\n",
    "  column_names_list = list()\n",
    "  datatypes_list = list()\n",
    "  for record in records:\n",
    "    column_names_list.append(record['Column Name'])\n",
    "    if record['User Input Datatype']=='':\n",
    "        datatypes_list.append('VARCHAR(256)')\n",
    "    else:\n",
    "        datatypes_list.append(record['User Input Datatype'])\n",
    "  createStr = 'CREATE TABLE IF NOT EXISTS {schema}.{tablename} ('.format(schema=schema, tablename=tablename)\n",
    "  for i in range(0, len(datatypes_list)):\n",
    "    createStr += column_names_list[i] + ' ' + datatypes_list[i] + ', '\n",
    "  createStr = createStr.rstrip(', ')\n",
    "  createStr += ');'\n",
    "\n",
    "  return createStr\n"
   ]
  },
  {
   "cell_type": "code",
   "execution_count": 44,
   "metadata": {
    "collapsed": false
   },
   "outputs": [
    {
     "data": {
      "text/plain": [
       "'CREATE TABLE IF NOT EXISTS bob.dean (draymond VARCHAR(256), fish VARCHAR(256), wow VARCHAR(256));'"
      ]
     },
     "execution_count": 44,
     "metadata": {},
     "output_type": "execute_result"
    }
   ],
   "source": [
    "get_query_from_xlsx_file('please.xlsx', 'bob', 'dean')"
   ]
  },
  {
   "cell_type": "code",
   "execution_count": null,
   "metadata": {
    "collapsed": true
   },
   "outputs": [],
   "source": [
    "python cli.py create_csv"
   ]
  },
  {
   "cell_type": "code",
   "execution_count": 50,
   "metadata": {
    "collapsed": true
   },
   "outputs": [],
   "source": [
    "cool = ['nice', 'man']"
   ]
  },
  {
   "cell_type": "code",
   "execution_count": 51,
   "metadata": {
    "collapsed": false
   },
   "outputs": [
    {
     "data": {
      "text/plain": [
       "'nice,man'"
      ]
     },
     "execution_count": 51,
     "metadata": {},
     "output_type": "execute_result"
    }
   ],
   "source": [
    "','.join(cool)"
   ]
  },
  {
   "cell_type": "code",
   "execution_count": null,
   "metadata": {
    "collapsed": true
   },
   "outputs": [],
   "source": []
  }
 ],
 "metadata": {
  "kernelspec": {
   "display_name": "Python 3",
   "language": "python",
   "name": "python3"
  },
  "language_info": {
   "codemirror_mode": {
    "name": "ipython",
    "version": 3
   },
   "file_extension": ".py",
   "mimetype": "text/x-python",
   "name": "python",
   "nbconvert_exporter": "python",
   "pygments_lexer": "ipython3",
   "version": "3.4.3"
  }
 },
 "nbformat": 4,
 "nbformat_minor": 0
}
